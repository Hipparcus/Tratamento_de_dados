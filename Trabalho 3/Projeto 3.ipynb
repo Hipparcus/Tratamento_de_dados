{
 "cells": [
  {
   "cell_type": "code",
   "execution_count": 1,
   "metadata": {},
   "outputs": [],
   "source": [
    "from astroquery.vizier import Vizier\n",
    "import numpy as np\n",
    "import pandas as pd\n",
    "import matplotlib.pyplot as plt\n",
    "import astropy.units as u"
   ]
  },
  {
   "cell_type": "markdown",
   "metadata": {},
   "source": [
    " - Plano: Pegar informações de Makemake do Gaia e do JPL (efeméride) e comparar suas posições/movimento"
   ]
  },
  {
   "cell_type": "markdown",
   "metadata": {},
   "source": [
    ">**Makemake** é o segundo *planeta anão* mais afastado do Sol, com um semieixo maior médio de 45,790 UA. Atualmente, está a uma distância de 52,5 UA do Sol, quase atingindo seu afélio (53,073 UA), o que acontecerá em 2033.  \n",
    ">\n",
    ">Sua órbita é parecida à de Haumea, com uma alta inclinação de 29° e excentricidade moderada de 0,16°, mas é mais afastada do Sol em termos de semieixo maior, perélio e afélio. O período orbital de **Makemake** é de aproximadamente 310 anos, maior que o de Plutão (248 anos) e Haumea (284 anos).  "
   ]
  },
  {
   "cell_type": "markdown",
   "metadata": {},
   "source": [
    " - Carregando arquivo da efeméride baixado (servirá como verificação do query):"
   ]
  },
  {
   "cell_type": "code",
   "execution_count": 2,
   "metadata": {},
   "outputs": [],
   "source": [
    "df_ef = pd.read_csv('ef.csv',sep=',',comment='*'\n",
    "                    ,na_values='n.a.')\n",
    "df_ef = df_ef.drop(columns=[' .1','/r'])"
   ]
  },
  {
   "cell_type": "markdown",
   "metadata": {},
   "source": [
    " - Carregando GaiaDr3"
   ]
  },
  {
   "cell_type": "code",
   "execution_count": 3,
   "metadata": {
    "scrolled": true
   },
   "outputs": [],
   "source": [
    "df_vi = pd.read_csv('vi.csv', sep=';', comment='#', #na_values=' '\n",
    "                   )\n",
    "df_vi = df_vi.dropna(axis = 1) \n",
    "df_vi = df_vi.drop(columns = ['_RAJ2000','_DEJ2000','SolID','Source','MPC','FG'])"
   ]
  },
  {
   "cell_type": "markdown",
   "metadata": {},
   "source": [
    " - Descrever dados estatísticos básicos de ambos catálogos:"
   ]
  },
  {
   "cell_type": "code",
   "execution_count": 4,
   "metadata": {},
   "outputs": [
    {
     "data": {
      "text/html": [
       "<div>\n",
       "<style scoped>\n",
       "    .dataframe tbody tr th:only-of-type {\n",
       "        vertical-align: middle;\n",
       "    }\n",
       "\n",
       "    .dataframe tbody tr th {\n",
       "        vertical-align: top;\n",
       "    }\n",
       "\n",
       "    .dataframe thead th {\n",
       "        text-align: right;\n",
       "    }\n",
       "</style>\n",
       "<table border=\"1\" class=\"dataframe\">\n",
       "  <thead>\n",
       "    <tr style=\"text-align: right;\">\n",
       "      <th></th>\n",
       "      <th>R.A._(ICRF)</th>\n",
       "      <th>DEC_(ICRF)</th>\n",
       "      <th>APmag</th>\n",
       "      <th>delta</th>\n",
       "      <th>deldot</th>\n",
       "      <th>S-O-T</th>\n",
       "      <th>S-T-O</th>\n",
       "      <th>Sky_motion</th>\n",
       "      <th>Sky_mot_PA</th>\n",
       "      <th>RelVel-ANG</th>\n",
       "    </tr>\n",
       "  </thead>\n",
       "  <tbody>\n",
       "    <tr>\n",
       "      <th>count</th>\n",
       "      <td>366.000000</td>\n",
       "      <td>366.000000</td>\n",
       "      <td>366.000000</td>\n",
       "      <td>366.000000</td>\n",
       "      <td>366.000000</td>\n",
       "      <td>366.000000</td>\n",
       "      <td>366.000000</td>\n",
       "      <td>366.000000</td>\n",
       "      <td>366.000000</td>\n",
       "      <td>366.000000</td>\n",
       "    </tr>\n",
       "    <tr>\n",
       "      <th>mean</th>\n",
       "      <td>198.983140</td>\n",
       "      <td>22.071469</td>\n",
       "      <td>17.139672</td>\n",
       "      <td>52.658886</td>\n",
       "      <td>0.099526</td>\n",
       "      <td>89.114765</td>\n",
       "      <td>0.823847</td>\n",
       "      <td>0.035659</td>\n",
       "      <td>185.894438</td>\n",
       "      <td>0.217097</td>\n",
       "    </tr>\n",
       "    <tr>\n",
       "      <th>std</th>\n",
       "      <td>0.807533</td>\n",
       "      <td>0.386501</td>\n",
       "      <td>0.032915</td>\n",
       "      <td>0.621631</td>\n",
       "      <td>18.617744</td>\n",
       "      <td>41.439364</td>\n",
       "      <td>0.204101</td>\n",
       "      <td>0.009551</td>\n",
       "      <td>96.661397</td>\n",
       "      <td>41.326314</td>\n",
       "    </tr>\n",
       "    <tr>\n",
       "      <th>min</th>\n",
       "      <td>197.517850</td>\n",
       "      <td>21.489410</td>\n",
       "      <td>17.069000</td>\n",
       "      <td>51.774660</td>\n",
       "      <td>-26.625859</td>\n",
       "      <td>27.229200</td>\n",
       "      <td>0.498600</td>\n",
       "      <td>0.021022</td>\n",
       "      <td>1.967029</td>\n",
       "      <td>-63.151880</td>\n",
       "    </tr>\n",
       "    <tr>\n",
       "      <th>25%</th>\n",
       "      <td>198.324627</td>\n",
       "      <td>21.679308</td>\n",
       "      <td>17.119250</td>\n",
       "      <td>52.039414</td>\n",
       "      <td>-18.403902</td>\n",
       "      <td>50.481650</td>\n",
       "      <td>0.626525</td>\n",
       "      <td>0.026836</td>\n",
       "      <td>108.742055</td>\n",
       "      <td>-38.065780</td>\n",
       "    </tr>\n",
       "    <tr>\n",
       "      <th>50%</th>\n",
       "      <td>198.997440</td>\n",
       "      <td>22.133625</td>\n",
       "      <td>17.150000</td>\n",
       "      <td>52.668035</td>\n",
       "      <td>0.529676</td>\n",
       "      <td>88.819600</td>\n",
       "      <td>0.847600</td>\n",
       "      <td>0.036023</td>\n",
       "      <td>159.270225</td>\n",
       "      <td>0.980972</td>\n",
       "    </tr>\n",
       "    <tr>\n",
       "      <th>75%</th>\n",
       "      <td>199.766115</td>\n",
       "      <td>22.444335</td>\n",
       "      <td>17.167000</td>\n",
       "      <td>53.278041</td>\n",
       "      <td>18.637997</td>\n",
       "      <td>127.782825</td>\n",
       "      <td>1.022650</td>\n",
       "      <td>0.041745</td>\n",
       "      <td>282.318252</td>\n",
       "      <td>38.754866</td>\n",
       "    </tr>\n",
       "    <tr>\n",
       "      <th>max</th>\n",
       "      <td>200.094120</td>\n",
       "      <td>22.673450</td>\n",
       "      <td>17.175000</td>\n",
       "      <td>53.533086</td>\n",
       "      <td>25.988608</td>\n",
       "      <td>151.828400</td>\n",
       "      <td>1.105400</td>\n",
       "      <td>0.051708</td>\n",
       "      <td>359.954500</td>\n",
       "      <td>61.362739</td>\n",
       "    </tr>\n",
       "  </tbody>\n",
       "</table>\n",
       "</div>"
      ],
      "text/plain": [
       "        R.A._(ICRF)   DEC_(ICRF)       APmag               delta       deldot  \\\n",
       "count    366.000000   366.000000  366.000000          366.000000   366.000000   \n",
       "mean     198.983140    22.071469   17.139672           52.658886     0.099526   \n",
       "std        0.807533     0.386501    0.032915            0.621631    18.617744   \n",
       "min      197.517850    21.489410   17.069000           51.774660   -26.625859   \n",
       "25%      198.324627    21.679308   17.119250           52.039414   -18.403902   \n",
       "50%      198.997440    22.133625   17.150000           52.668035     0.529676   \n",
       "75%      199.766115    22.444335   17.167000           53.278041    18.637997   \n",
       "max      200.094120    22.673450   17.175000           53.533086    25.988608   \n",
       "\n",
       "            S-O-T       S-T-O    Sky_motion   Sky_mot_PA   RelVel-ANG  \n",
       "count  366.000000  366.000000    366.000000   366.000000   366.000000  \n",
       "mean    89.114765    0.823847      0.035659   185.894438     0.217097  \n",
       "std     41.439364    0.204101      0.009551    96.661397    41.326314  \n",
       "min     27.229200    0.498600      0.021022     1.967029   -63.151880  \n",
       "25%     50.481650    0.626525      0.026836   108.742055   -38.065780  \n",
       "50%     88.819600    0.847600      0.036023   159.270225     0.980972  \n",
       "75%    127.782825    1.022650      0.041745   282.318252    38.754866  \n",
       "max    151.828400    1.105400      0.051708   359.954500    61.362739  "
      ]
     },
     "execution_count": 4,
     "metadata": {},
     "output_type": "execute_result"
    }
   ],
   "source": [
    "df_ef.describe()"
   ]
  },
  {
   "cell_type": "code",
   "execution_count": 5,
   "metadata": {
    "scrolled": true
   },
   "outputs": [
    {
     "data": {
      "text/html": [
       "<div>\n",
       "<style scoped>\n",
       "    .dataframe tbody tr th:only-of-type {\n",
       "        vertical-align: middle;\n",
       "    }\n",
       "\n",
       "    .dataframe tbody tr th {\n",
       "        vertical-align: top;\n",
       "    }\n",
       "\n",
       "    .dataframe thead th {\n",
       "        text-align: right;\n",
       "    }\n",
       "</style>\n",
       "<table border=\"1\" class=\"dataframe\">\n",
       "  <thead>\n",
       "    <tr style=\"text-align: right;\">\n",
       "      <th></th>\n",
       "      <th>RA_ICRS</th>\n",
       "      <th>DE_ICRS</th>\n",
       "      <th>Epoch</th>\n",
       "      <th>Gmag</th>\n",
       "      <th>VX</th>\n",
       "      <th>VY</th>\n",
       "      <th>VZ</th>\n",
       "      <th>PA deg</th>\n",
       "    </tr>\n",
       "  </thead>\n",
       "  <tbody>\n",
       "    <tr>\n",
       "      <th>count</th>\n",
       "      <td>50.000000</td>\n",
       "      <td>50.000000</td>\n",
       "      <td>50.000000</td>\n",
       "      <td>50.000000</td>\n",
       "      <td>50.000000</td>\n",
       "      <td>50.000000</td>\n",
       "      <td>50.000000</td>\n",
       "      <td>50.000000</td>\n",
       "    </tr>\n",
       "    <tr>\n",
       "      <th>mean</th>\n",
       "      <td>194.444773</td>\n",
       "      <td>24.628568</td>\n",
       "      <td>2315.311778</td>\n",
       "      <td>17.138099</td>\n",
       "      <td>-0.014389</td>\n",
       "      <td>0.006777</td>\n",
       "      <td>0.002909</td>\n",
       "      <td>233.852398</td>\n",
       "    </tr>\n",
       "    <tr>\n",
       "      <th>std</th>\n",
       "      <td>0.782700</td>\n",
       "      <td>0.282834</td>\n",
       "      <td>262.995108</td>\n",
       "      <td>0.015190</td>\n",
       "      <td>0.002124</td>\n",
       "      <td>0.006044</td>\n",
       "      <td>0.002597</td>\n",
       "      <td>32.349711</td>\n",
       "    </tr>\n",
       "    <tr>\n",
       "      <th>min</th>\n",
       "      <td>193.015194</td>\n",
       "      <td>24.315297</td>\n",
       "      <td>1769.933172</td>\n",
       "      <td>17.113745</td>\n",
       "      <td>-0.017131</td>\n",
       "      <td>-0.004493</td>\n",
       "      <td>-0.001929</td>\n",
       "      <td>171.094800</td>\n",
       "    </tr>\n",
       "    <tr>\n",
       "      <th>25%</th>\n",
       "      <td>193.841560</td>\n",
       "      <td>24.361800</td>\n",
       "      <td>2136.048594</td>\n",
       "      <td>17.129744</td>\n",
       "      <td>-0.016932</td>\n",
       "      <td>0.003607</td>\n",
       "      <td>0.001543</td>\n",
       "      <td>212.536450</td>\n",
       "    </tr>\n",
       "    <tr>\n",
       "      <th>50%</th>\n",
       "      <td>194.821995</td>\n",
       "      <td>24.551642</td>\n",
       "      <td>2511.095782</td>\n",
       "      <td>17.141241</td>\n",
       "      <td>-0.014300</td>\n",
       "      <td>0.009320</td>\n",
       "      <td>0.004000</td>\n",
       "      <td>253.798800</td>\n",
       "    </tr>\n",
       "    <tr>\n",
       "      <th>75%</th>\n",
       "      <td>195.150822</td>\n",
       "      <td>24.786101</td>\n",
       "      <td>2533.596034</td>\n",
       "      <td>17.142765</td>\n",
       "      <td>-0.012380</td>\n",
       "      <td>0.011406</td>\n",
       "      <td>0.004900</td>\n",
       "      <td>254.463050</td>\n",
       "    </tr>\n",
       "    <tr>\n",
       "      <th>max</th>\n",
       "      <td>195.358822</td>\n",
       "      <td>25.244548</td>\n",
       "      <td>2562.582274</td>\n",
       "      <td>17.161739</td>\n",
       "      <td>-0.012205</td>\n",
       "      <td>0.011586</td>\n",
       "      <td>0.004978</td>\n",
       "      <td>258.107500</td>\n",
       "    </tr>\n",
       "  </tbody>\n",
       "</table>\n",
       "</div>"
      ],
      "text/plain": [
       "          RA_ICRS    DE_ICRS        Epoch       Gmag         VX         VY  \\\n",
       "count   50.000000  50.000000    50.000000  50.000000  50.000000  50.000000   \n",
       "mean   194.444773  24.628568  2315.311778  17.138099  -0.014389   0.006777   \n",
       "std      0.782700   0.282834   262.995108   0.015190   0.002124   0.006044   \n",
       "min    193.015194  24.315297  1769.933172  17.113745  -0.017131  -0.004493   \n",
       "25%    193.841560  24.361800  2136.048594  17.129744  -0.016932   0.003607   \n",
       "50%    194.821995  24.551642  2511.095782  17.141241  -0.014300   0.009320   \n",
       "75%    195.150822  24.786101  2533.596034  17.142765  -0.012380   0.011406   \n",
       "max    195.358822  25.244548  2562.582274  17.161739  -0.012205   0.011586   \n",
       "\n",
       "              VZ      PA deg  \n",
       "count  50.000000   50.000000  \n",
       "mean    0.002909  233.852398  \n",
       "std     0.002597   32.349711  \n",
       "min    -0.001929  171.094800  \n",
       "25%     0.001543  212.536450  \n",
       "50%     0.004000  253.798800  \n",
       "75%     0.004900  254.463050  \n",
       "max     0.004978  258.107500  "
      ]
     },
     "execution_count": 5,
     "metadata": {},
     "output_type": "execute_result"
    }
   ],
   "source": [
    "df_vi.describe()"
   ]
  },
  {
   "cell_type": "markdown",
   "metadata": {},
   "source": [
    " - Somar 2455197.5 pra todas as linhas do Epoch vai passar a data pra Juliano. O objetivo é pegar essas datas e gerar uma nova efeméride de acordo. Lembrando, **'Date Julian' é contado após janeiro de 2000 meio dia -> contado em dias** (por conveniência)."
   ]
  },
  {
   "cell_type": "code",
   "execution_count": null,
   "metadata": {},
   "outputs": [],
   "source": [
    "#Em graus (1º) - e as subunidades dos graus são os minutos (1º = 60') e os segundos (1' = 60\"). Não só isso, 1hora cobre 15° no relógio -> 360°/24hrs. "
   ]
  },
  {
   "cell_type": "code",
   "execution_count": 7,
   "metadata": {},
   "outputs": [
    {
     "name": "stdout",
     "output_type": "stream",
     "text": [
      "A data média dos dados do GaiaDR3:  2016-05-04 07:27:50.400\n",
      "A data mediana dos dados do GaiaDR3:  2016-11-16 02:16:48.000\n"
     ]
    }
   ],
   "source": [
    "from astropy.time import Time\n",
    "t = Time(2455197.5 + 2315.311 #epoch média\n",
    "         , format='jd')\n",
    "#t.iso , t.byear, t.jd...\n",
    "print('A data média dos dados do GaiaDR3: ', t.iso)\n",
    "tm = Time(2455197.5+2511.095 #epoch 50%\n",
    "          , format='jd')\n",
    "print('A data mediana dos dados do GaiaDR3: ',tm.iso)"
   ]
  },
  {
   "cell_type": "code",
   "execution_count": 8,
   "metadata": {},
   "outputs": [],
   "source": [
    "#Passando todas as date_julian do gaia para datatime_str\n",
    "datetime_str = []\n",
    "for i in range(len(df_vi['Epoch'])):\n",
    "    datetime_str.append((Time(df_vi['Epoch'].loc[i] + 2455197.5, format = 'jd')).iso)\n",
    "\n",
    "df_vi['Datetime_str'] = datetime_str"
   ]
  },
  {
   "cell_type": "code",
   "execution_count": 9,
   "metadata": {},
   "outputs": [],
   "source": [
    "#Organizando por valor de Epoch para facilitar a comparação com as Efemérides.\n",
    "df_vi = df_vi.sort_values(by=['Epoch']\n",
    "                  #, ascending=False para organizar de ordem decrescente\n",
    "                 )"
   ]
  },
  {
   "cell_type": "markdown",
   "metadata": {},
   "source": [
    " - Deveres:\n",
    ">Fazer um query p pegar a efemeride relativo ao tempo exato de cada ponto e ir construindo o banco de dados de forma recursiva.\n",
    ">\n",
    ">Identificar a lua da makemake utilizando RA_ef - RA_gaia; DEC_ef - DEC_gaia -> plotar o deltaRA/tempo e deltaDEC/tempo -> sistemas binarios irão possuir um plot ondulatório já que a medida do gaia é precisa a ponto de identificar esse comportamento.\n",
    ">\n",
    ">Verificar a diferença de magnitude aparente medida pela efeméride e a Gmag do Gaia."
   ]
  },
  {
   "cell_type": "markdown",
   "metadata": {},
   "source": [
    " - Histograma relativo a cada coluna dos dados do gaia:"
   ]
  },
  {
   "cell_type": "code",
   "execution_count": 10,
   "metadata": {},
   "outputs": [
    {
     "name": "stderr",
     "output_type": "stream",
     "text": [
      "/home/laidler/anaconda3/lib/python3.8/site-packages/pandas/plotting/_matplotlib/tools.py:331: MatplotlibDeprecationWarning: \n",
      "The is_first_col function was deprecated in Matplotlib 3.4 and will be removed two minor releases later. Use ax.get_subplotspec().is_first_col() instead.\n",
      "  if ax.is_first_col():\n"
     ]
    },
    {
     "data": {
      "image/png": "[encoded data removed]",
      "text/plain": [
       "<Figure size 720x720 with 9 Axes>"
      ]
     },
     "metadata": {
      "needs_background": "light"
     },
     "output_type": "display_data"
    }
   ],
   "source": [
    "df_vi.hist(color=\"k\", alpha=0.5, bins=50, figsize=[10,10])\n",
    "plt.show()"
   ]
  },
  {
   "cell_type": "markdown",
   "metadata": {},
   "source": [
    " - Criando uma lista com todos os valores da epoch de cada dado do Gaia e buscar por essas datas nas efemérides:"
   ]
  },
  {
   "cell_type": "code",
   "execution_count": 11,
   "metadata": {},
   "outputs": [],
   "source": [
    "df_vi['JD'] = df_vi['Epoch'] + 2455197.5"
   ]
  },
  {
   "cell_type": "code",
   "execution_count": 12,
   "metadata": {},
   "outputs": [],
   "source": [
    "jd = []\n",
    "for i in range(len(df_vi['Epoch'])):\n",
    "    jd.append(round(df_vi['Epoch'][i],5) + 2455197.5 )"
   ]
  },
  {
   "cell_type": "code",
   "execution_count": 13,
   "metadata": {},
   "outputs": [],
   "source": [
    "from astroquery.jplhorizons import Horizons\n",
    "\n",
    "obj = Horizons(id='MakeMake', #location='568', \n",
    "               epochs=jd)\n",
    "\n",
    "eph = obj.ephemerides()"
   ]
  },
  {
   "cell_type": "code",
   "execution_count": 14,
   "metadata": {},
   "outputs": [],
   "source": [
    "df_EF = eph.to_pandas() # Data Frame da Efemeride pega pelo query com base nos tempos do Gaia\n",
    "#dropar todas as colunas que não sejam importantes para nossa análise.\n",
    "df_EF = df_EF.drop(columns = ['solar_presence','flags',\n",
    "                                  'AZ','EL','AZ_rate','EL_rate','sat_X','sat_Y','sat_PANG','airmass','magextinct',\n",
    "                                  'surfbright','illumination','illum_defect',\n",
    "                                  'sat_sep','sat_vis','ang_width',\n",
    "       'PDObsLon', 'PDObsLat', 'PDSunLon', 'PDSunLat', 'SubSol_ang',\n",
    "       'SubSol_dist', 'NPole_ang', 'NPole_dist', 'EclLon', 'EclLat', 'r',\n",
    "       'r_rate', 'delta', 'delta_rate', 'lighttime', 'vel_sun', 'vel_obs',\n",
    "       'elong', 'elongFlag', 'alpha', 'lunar_elong', 'lunar_illum',\n",
    "       'sat_alpha', 'sunTargetPA', 'velocityPA', 'OrbPlaneAng',\n",
    "       'constellation', 'TDB-UT', 'ObsEclLon', 'ObsEclLat', 'NPole_RA',\n",
    "       'NPole_DEC', 'GlxLon', 'GlxLat', 'solartime', 'earth_lighttime',\n",
    "       'SMAA_3sigma', 'SMIA_3sigma', 'Theta_3sigma',\n",
    "       'Area_3sigma', 'RSS_3sigma', 'r_3sigma', 'r_rate_3sigma',\n",
    "       'SBand_3sigma', 'XBand_3sigma', 'DoppDelay_3sigma', 'true_anom',\n",
    "       'hour_angle', 'alpha_true', 'PABLon', 'PABLat','siderealtime'])"
   ]
  },
  {
   "cell_type": "code",
   "execution_count": 15,
   "metadata": {},
   "outputs": [
    {
     "data": {
      "text/html": [
       "<div>\n",
       "<style scoped>\n",
       "    .dataframe tbody tr th:only-of-type {\n",
       "        vertical-align: middle;\n",
       "    }\n",
       "\n",
       "    .dataframe tbody tr th {\n",
       "        vertical-align: top;\n",
       "    }\n",
       "\n",
       "    .dataframe thead th {\n",
       "        text-align: right;\n",
       "    }\n",
       "</style>\n",
       "<table border=\"1\" class=\"dataframe\">\n",
       "  <thead>\n",
       "    <tr style=\"text-align: right;\">\n",
       "      <th></th>\n",
       "      <th>datetime_jd</th>\n",
       "      <th>H</th>\n",
       "      <th>G</th>\n",
       "      <th>RA</th>\n",
       "      <th>DEC</th>\n",
       "      <th>RA_app</th>\n",
       "      <th>DEC_app</th>\n",
       "      <th>RA_rate</th>\n",
       "      <th>DEC_rate</th>\n",
       "      <th>V</th>\n",
       "      <th>RA_3sigma</th>\n",
       "      <th>DEC_3sigma</th>\n",
       "    </tr>\n",
       "  </thead>\n",
       "  <tbody>\n",
       "    <tr>\n",
       "      <th>count</th>\n",
       "      <td>5.000000e+01</td>\n",
       "      <td>5.000000e+01</td>\n",
       "      <td>5.000000e+01</td>\n",
       "      <td>50.000000</td>\n",
       "      <td>50.000000</td>\n",
       "      <td>50.000000</td>\n",
       "      <td>50.000000</td>\n",
       "      <td>50.000000</td>\n",
       "      <td>50.000000</td>\n",
       "      <td>50.000000</td>\n",
       "      <td>50.000000</td>\n",
       "      <td>50.000000</td>\n",
       "    </tr>\n",
       "    <tr>\n",
       "      <th>mean</th>\n",
       "      <td>2.457513e+06</td>\n",
       "      <td>-2.100000e-01</td>\n",
       "      <td>1.500000e-01</td>\n",
       "      <td>194.435782</td>\n",
       "      <td>24.634281</td>\n",
       "      <td>194.628842</td>\n",
       "      <td>24.546540</td>\n",
       "      <td>1.936090</td>\n",
       "      <td>0.210402</td>\n",
       "      <td>17.149140</td>\n",
       "      <td>0.015580</td>\n",
       "      <td>0.014600</td>\n",
       "    </tr>\n",
       "    <tr>\n",
       "      <th>std</th>\n",
       "      <td>2.629951e+02</td>\n",
       "      <td>1.962616e-16</td>\n",
       "      <td>1.401868e-16</td>\n",
       "      <td>0.781039</td>\n",
       "      <td>0.283192</td>\n",
       "      <td>0.789886</td>\n",
       "      <td>0.286765</td>\n",
       "      <td>0.839419</td>\n",
       "      <td>0.604085</td>\n",
       "      <td>0.005935</td>\n",
       "      <td>0.004734</td>\n",
       "      <td>0.002642</td>\n",
       "    </tr>\n",
       "    <tr>\n",
       "      <th>min</th>\n",
       "      <td>2.456967e+06</td>\n",
       "      <td>-2.100000e-01</td>\n",
       "      <td>1.500000e-01</td>\n",
       "      <td>193.008080</td>\n",
       "      <td>24.321610</td>\n",
       "      <td>193.184200</td>\n",
       "      <td>24.231980</td>\n",
       "      <td>0.324009</td>\n",
       "      <td>-0.281880</td>\n",
       "      <td>17.140000</td>\n",
       "      <td>0.010000</td>\n",
       "      <td>0.011000</td>\n",
       "    </tr>\n",
       "    <tr>\n",
       "      <th>25%</th>\n",
       "      <td>2.457334e+06</td>\n",
       "      <td>-2.100000e-01</td>\n",
       "      <td>1.500000e-01</td>\n",
       "      <td>193.834170</td>\n",
       "      <td>24.367010</td>\n",
       "      <td>194.020760</td>\n",
       "      <td>24.275860</td>\n",
       "      <td>1.586369</td>\n",
       "      <td>-0.278270</td>\n",
       "      <td>17.145000</td>\n",
       "      <td>0.011000</td>\n",
       "      <td>0.012000</td>\n",
       "    </tr>\n",
       "    <tr>\n",
       "      <th>50%</th>\n",
       "      <td>2.457709e+06</td>\n",
       "      <td>-2.100000e-01</td>\n",
       "      <td>1.500000e-01</td>\n",
       "      <td>194.813370</td>\n",
       "      <td>24.555440</td>\n",
       "      <td>195.011110</td>\n",
       "      <td>24.462540</td>\n",
       "      <td>2.334348</td>\n",
       "      <td>-0.022810</td>\n",
       "      <td>17.148000</td>\n",
       "      <td>0.017000</td>\n",
       "      <td>0.017000</td>\n",
       "    </tr>\n",
       "    <tr>\n",
       "      <th>75%</th>\n",
       "      <td>2.457731e+06</td>\n",
       "      <td>-2.100000e-01</td>\n",
       "      <td>1.500000e-01</td>\n",
       "      <td>195.140107</td>\n",
       "      <td>24.792560</td>\n",
       "      <td>195.340130</td>\n",
       "      <td>24.707940</td>\n",
       "      <td>2.548033</td>\n",
       "      <td>0.621684</td>\n",
       "      <td>17.155000</td>\n",
       "      <td>0.020000</td>\n",
       "      <td>0.017000</td>\n",
       "    </tr>\n",
       "    <tr>\n",
       "      <th>max</th>\n",
       "      <td>2.457760e+06</td>\n",
       "      <td>-2.100000e-01</td>\n",
       "      <td>1.500000e-01</td>\n",
       "      <td>195.346970</td>\n",
       "      <td>25.250880</td>\n",
       "      <td>195.550730</td>\n",
       "      <td>25.170730</td>\n",
       "      <td>2.549718</td>\n",
       "      <td>1.283227</td>\n",
       "      <td>17.157000</td>\n",
       "      <td>0.022000</td>\n",
       "      <td>0.017000</td>\n",
       "    </tr>\n",
       "  </tbody>\n",
       "</table>\n",
       "</div>"
      ],
      "text/plain": [
       "        datetime_jd             H             G          RA        DEC  \\\n",
       "count  5.000000e+01  5.000000e+01  5.000000e+01   50.000000  50.000000   \n",
       "mean   2.457513e+06 -2.100000e-01  1.500000e-01  194.435782  24.634281   \n",
       "std    2.629951e+02  1.962616e-16  1.401868e-16    0.781039   0.283192   \n",
       "min    2.456967e+06 -2.100000e-01  1.500000e-01  193.008080  24.321610   \n",
       "25%    2.457334e+06 -2.100000e-01  1.500000e-01  193.834170  24.367010   \n",
       "50%    2.457709e+06 -2.100000e-01  1.500000e-01  194.813370  24.555440   \n",
       "75%    2.457731e+06 -2.100000e-01  1.500000e-01  195.140107  24.792560   \n",
       "max    2.457760e+06 -2.100000e-01  1.500000e-01  195.346970  25.250880   \n",
       "\n",
       "           RA_app    DEC_app    RA_rate   DEC_rate          V  RA_3sigma  \\\n",
       "count   50.000000  50.000000  50.000000  50.000000  50.000000  50.000000   \n",
       "mean   194.628842  24.546540   1.936090   0.210402  17.149140   0.015580   \n",
       "std      0.789886   0.286765   0.839419   0.604085   0.005935   0.004734   \n",
       "min    193.184200  24.231980   0.324009  -0.281880  17.140000   0.010000   \n",
       "25%    194.020760  24.275860   1.586369  -0.278270  17.145000   0.011000   \n",
       "50%    195.011110  24.462540   2.334348  -0.022810  17.148000   0.017000   \n",
       "75%    195.340130  24.707940   2.548033   0.621684  17.155000   0.020000   \n",
       "max    195.550730  25.170730   2.549718   1.283227  17.157000   0.022000   \n",
       "\n",
       "       DEC_3sigma  \n",
       "count   50.000000  \n",
       "mean     0.014600  \n",
       "std      0.002642  \n",
       "min      0.011000  \n",
       "25%      0.012000  \n",
       "50%      0.017000  \n",
       "75%      0.017000  \n",
       "max      0.017000  "
      ]
     },
     "execution_count": 15,
     "metadata": {},
     "output_type": "execute_result"
    }
   ],
   "source": [
    "df_EF.describe() # Verificando com os dados recolhidos da efeméride manualmente"
   ]
  },
  {
   "cell_type": "markdown",
   "metadata": {},
   "source": [
    " - Comparando dataframes:\n",
    " Aqui também queremos verificar se as datas buscadas no query estão batendo, por isso a coluna 'datetime_str' criada anteriormente."
   ]
  },
  {
   "cell_type": "code",
   "execution_count": 16,
   "metadata": {},
   "outputs": [],
   "source": [
    "# df_ef\n",
    "# df_EF\n",
    "# df_vi"
   ]
  },
  {
   "cell_type": "code",
   "execution_count": 17,
   "metadata": {},
   "outputs": [
    {
     "name": "stderr",
     "output_type": "stream",
     "text": [
      "/home/laidler/anaconda3/lib/python3.8/site-packages/pandas/plotting/_matplotlib/tools.py:331: MatplotlibDeprecationWarning: \n",
      "The is_first_col function was deprecated in Matplotlib 3.4 and will be removed two minor releases later. Use ax.get_subplotspec().is_first_col() instead.\n",
      "  if ax.is_first_col():\n"
     ]
    },
    {
     "data": {
      "image/png": "[encoded data removed]",
      "text/plain": [
       "<Figure size 720x720 with 12 Axes>"
      ]
     },
     "metadata": {
      "needs_background": "light"
     },
     "output_type": "display_data"
    }
   ],
   "source": [
    "df_EF.hist(color=\"k\", alpha=0.5, bins=50, figsize=[10,10])\n",
    "plt.show()"
   ]
  },
  {
   "cell_type": "markdown",
   "metadata": {},
   "source": [
    " - Plotando RA_ef - RA_gaia; DEC_ef - DEC_gaia a fim de identificar um possivel satélite do planeta anão.\n",
    " >>Sistemas binarios possuem um plot ondulatório, já que a medida do gaia é precisa a ponto de identificar esse comportamento."
   ]
  },
  {
   "cell_type": "markdown",
   "metadata": {},
   "source": [
    "    Para que esse plot seja possível, teremos que somar 2455197.5 a todos os valores de Epoch do gaia (df_vi) (isso já foi feito, está na variável jd). \n",
    "    \n",
    "    No entanto, resta arredondar os valores após certa casa decimail. E deveremos arredondar da mesma forma para as efemérides. Isso pois há uma leve diferença entre os tempos do gaia e das efemérides, de forma que o computador não identifica-os como sendo os mesmos pontos. Portanto, a fim de termos uma array com os tempos corretos para o plot (50 elementos no eixo x para 50 elementos no eixo y), irei criar essa array de forma arredondada - o numero de casas decimais escolhida passou pelos devidos testes, escolhi aquela necessária para que a primeira linha de um catalogo fosse igual a primeira ligua do segundo, e assim por diante (e de forma independentente, de forma que a primeira linha de um catalogo não fosse igual a primeira E a segunda linha do segundo)."
   ]
  },
  {
   "cell_type": "code",
   "execution_count": 18,
   "metadata": {},
   "outputs": [],
   "source": [
    "RA_ef = df_EF['RA']\n",
    "RA_gaia = df_vi['RA_ICRS']\n",
    "\n",
    "DEC_ef = df_EF['DEC']\n",
    "DEC_gaia = df_vi['DE_ICRS']\n",
    "\n",
    "tempo = [] #julian date arredondado\n",
    "for i in range(len(jd)):\n",
    "    tempo.append(round(jd[i],5))\n",
    "tempo.sort()"
   ]
  },
  {
   "cell_type": "code",
   "execution_count": 19,
   "metadata": {},
   "outputs": [],
   "source": [
    "#### Conferindo se os pontos da lista 'tempo' coincide com as informações dos data frames na ordem correta.\n",
    "#RA_gaia -> 193.015229 (1) 2014-11-05 22:23:46.061\n",
    "#RA_ef ->   193.00808  (1) 2014-Nov-05 22:23:45.888\n",
    "#tempo -> 2456967.43317 -> 1769.933172 + 2455197.5 = 2456967.433172\n",
    "### Bate... então teoricamente o plot deveria estar correto..."
   ]
  },
  {
   "cell_type": "markdown",
   "metadata": {},
   "source": [
    " - Plot que busco"
   ]
  },
  {
   "cell_type": "code",
   "execution_count": 20,
   "metadata": {
    "scrolled": false
   },
   "outputs": [
    {
     "data": {
      "image/png": "[encoded data removed]",
      "text/plain": [
       "<Figure size 720x504 with 1 Axes>"
      ]
     },
     "metadata": {
      "needs_background": "light"
     },
     "output_type": "display_data"
    }
   ],
   "source": [
    "plt.figure(figsize = [10,7])\n",
    "plt.title('Variação da RA pelo tempo')\n",
    "plt.plot(list(range(50)),np.sqrt((RA_gaia - RA_ef)**2), 'r.-')\n",
    "plt.legend(['raíz da variação ao quadrado'])\n",
    "plt.xlabel('Numero ordenado de cada dado')\n",
    "#plt.xlabel('Tempo em Data Juliana -  a partir de 2000')\n",
    "plt.ylabel('RA')\n",
    "plt.show()"
   ]
  },
  {
   "cell_type": "code",
   "execution_count": 40,
   "metadata": {},
   "outputs": [
    {
     "data": {
      "image/png": "[encoded data removed]",
      "text/plain": [
       "<Figure size 720x504 with 1 Axes>"
      ]
     },
     "metadata": {
      "needs_background": "light"
     },
     "output_type": "display_data"
    }
   ],
   "source": [
    "plt.figure(figsize = [10,7])\n",
    "plt.title('RA')\n",
    "plt.plot(list(range(50)),RA_gaia, 'r.-')\n",
    "plt.plot(list(range(50)),RA_ef, 'k.-')\n",
    "plt.legend(['Gaia', 'EFEM'])\n",
    "plt.xlabel('Numero ordenado de cada dado')\n",
    "#plt.xlabel('Tempo em Data Juliana -  a partir de 2000')\n",
    "plt.ylabel('RA')\n",
    "plt.show()"
   ]
  },
  {
   "cell_type": "code",
   "execution_count": 22,
   "metadata": {},
   "outputs": [
    {
     "data": {
      "image/png": "[encoded data removed]",
      "text/plain": [
       "<Figure size 720x504 with 1 Axes>"
      ]
     },
     "metadata": {
      "needs_background": "light"
     },
     "output_type": "display_data"
    }
   ],
   "source": [
    "plt.figure(figsize = [10,7])\n",
    "plt.title('Variação da DEC pelo tempo')\n",
    "plt.plot(list(range(50)),np.sqrt((DEC_gaia - DEC_ef)**2), 'c.-')\n",
    "plt.legend(['raíz da variação ao quadrado'])\n",
    "plt.xlabel('Numero ordenado de cada dado')\n",
    "#plt.xlabel('Tempo em Data Juliana -  a partir de 2000')\n",
    "plt.ylabel('DEC')\n",
    "plt.show()"
   ]
  },
  {
   "cell_type": "code",
   "execution_count": 39,
   "metadata": {},
   "outputs": [
    {
     "data": {
      "image/png": "[encoded data removed]",
      "text/plain": [
       "<Figure size 720x504 with 1 Axes>"
      ]
     },
     "metadata": {
      "needs_background": "light"
     },
     "output_type": "display_data"
    }
   ],
   "source": [
    "plt.figure(figsize = [10,7])\n",
    "plt.title(' DEC ')\n",
    "plt.plot(list(range(50)),DEC_gaia, 'c.-')\n",
    "plt.plot(list(range(50)), DEC_ef, 'b.-')\n",
    "plt.legend(['Gaia', 'EFEM'])\n",
    "plt.xlabel('Numero ordenado de cada dado')\n",
    "plt.ylabel('DEC')\n",
    "plt.show()"
   ]
  },
  {
   "cell_type": "markdown",
   "metadata": {},
   "source": [
    " - Plots uteis:\n",
    " \n",
    " >>Utilizando as informações de tempo, os catalogos possuem apenas 5 observações distintas, o que faz com que os pontos estejam juntos demais em certos momentos. Isso causa uma falsa impressão de que há menos pontos."
   ]
  },
  {
   "cell_type": "code",
   "execution_count": 24,
   "metadata": {},
   "outputs": [],
   "source": [
    "########### Testagem ###############################\n",
    "#tempo\n",
    "\n",
    "#test = [] #julian date arredondado\n",
    "#for i in range(len(jd)):\n",
    "#    test.append(round(df_EF['datetime_jd'][i],6))\n",
    "#test.sort()\n",
    "\n",
    "#plt.ylim(1.5, 2)\n",
    "#plt.xlim(2456967.33317,2457333.54836)\n",
    "#plt.plot(df_vi['Datetime_str'],np.sqrt((RA_gaia - RA_ef)**2),'-o')\n",
    "#plt.plot(df_vi['Epoch'],df_vi['RA_ICRS'],'-o')\n",
    "#plt.plot(df_vi['Epoch'],range(50),'-o')\n",
    "#plt.plot(df_vi['Datetime_str'],range(50),'-o')"
   ]
  },
  {
   "cell_type": "code",
   "execution_count": 25,
   "metadata": {},
   "outputs": [],
   "source": [
    "def estaordenado(lista):\n",
    "    '''Tentantiva final: verificar se o array do tempo realmente está ordenado. No entanto, vi que não\n",
    "    foi este o problema... Mas de qualquer forma, deixarei a função aqui.'''\n",
    "    for i in range(len(lista)):\n",
    "        print(len(lista) - 1)\n",
    "        while i < (len(lista) - 2):\n",
    "            if lista[i] > lista[i+1]:\n",
    "                return 'Nao eh ordenado'\n",
    "            else:\n",
    "                return np.array(lista)"
   ]
  },
  {
   "cell_type": "code",
   "execution_count": 38,
   "metadata": {},
   "outputs": [
    {
     "data": {
      "image/png": "[encoded data removed]",
      "text/plain": [
       "<Figure size 720x504 with 1 Axes>"
      ]
     },
     "metadata": {
      "needs_background": "light"
     },
     "output_type": "display_data"
    }
   ],
   "source": [
    "plt.figure(figsize = [10,7])\n",
    "plt.title('Variação da posicao pelo tempo')\n",
    "plt.plot(tempo,np.sqrt((RA_gaia - RA_ef)**2), 'r.-')\n",
    "plt.plot(tempo,np.sqrt((DEC_ef - DEC_gaia)**2),'b.-')\n",
    "plt.legend(['Variacao RA, variacao DEC'])\n",
    "plt.xlabel('Tempo em Data Juliana -  a partir de 2000')\n",
    "plt.ylabel('Modulo da diferença')\n",
    "plt.show()"
   ]
  },
  {
   "cell_type": "markdown",
   "metadata": {},
   "source": [
    "A falta de dados entre estas observações compromete a visualização da onda mais formalizada."
   ]
  },
  {
   "cell_type": "markdown",
   "metadata": {},
   "source": [
    " #### Comparando magnitudes:\n",
    "Para quantificar a cor de algum corpo celeste, o observamos usando filtros que só permitem a passagem de luz restrita a um intervalo pequeno de comprimento de onda. Ao amostrarmos o espectro em dois ou mais diferentes domínios de comprimento de onda, podemos então determinar se o espectro é de um corpo quente, morno ou frio.\n",
    "\n",
    "As estrelas mais quentes, por exemplo, têm temperaturas da ordem de 60.000 K, enquanto as mais frias têm temperaturas de uns 3,000 K.\n",
    "\n",
    "\n",
    "A cor das estrelas depende de sua temperatura.\n",
    ">estrelas quentes são azuladas e estrelas frias são avermelhadas.\n",
    "\n",
    "O \"índice de cor B-V\" permite quantificar a cor de uma estrela usando medidas de magnitude em dois filtros: o filtro B, que só permite a passagem de luz no domínio azul do espectro e o filtro V, que transmite apenas a luz no domínio de comprimento de onda consistente com o verde-amarelo. A diferença de magnitudes B-V, portanto, quantifica a importância relativa desses dois domínios do espectro para o fluxo total da estrela.\n",
    "\n",
    "Uma estrela quente tem B-V próximo a zero enquanto que uma estrela fria possui B-V = 2.0 aproximadamente. Outras estrelas têm valores intermediários (o Sol, por exemplo, tem B-V = 0.6). "
   ]
  },
  {
   "cell_type": "markdown",
   "metadata": {},
   "source": [
    ">> Filtros B,V,G,R dividem o espectro considerado visível indo do azul ao vermelho (nessa ordem). \n",
    ">\n",
    ">>Filtros como I,J e H dividem o espectro próximo ao infravermelho, sendo o H caracterizado com Ponto Médio do Comprimento de Onda Efetivo (λeff) de 1630 nm.\n",
    ">\n",
    ">> Vamos verificar a diferença de magnitude aparente medida pela efeméride (V) e a magnitude do Gaia (filtro G)."
   ]
  },
  {
   "cell_type": "markdown",
   "metadata": {},
   "source": [
    "Os índices de cor são simplesmente as medidas da diferença entre a magnitude aparente do objeto visto pelo filtro B (azul), V (visivel, verde-amarelo) e R (vermelho). Podemos analisar makemake com base nesse índice."
   ]
  },
  {
   "cell_type": "code",
   "execution_count": 28,
   "metadata": {},
   "outputs": [],
   "source": [
    "V = df_EF['V'] #magnitude absoluta no Visivel\n",
    "H = df_EF['H'] \n",
    "G_ef = df_EF['G']"
   ]
  },
  {
   "cell_type": "code",
   "execution_count": 29,
   "metadata": {},
   "outputs": [],
   "source": [
    "G = df_vi['Gmag'] #magnitude absoluta no Green"
   ]
  },
  {
   "cell_type": "code",
   "execution_count": 30,
   "metadata": {},
   "outputs": [
    {
     "data": {
      "image/png": "[encoded data removed]",
      "text/plain": [
       "<Figure size 720x504 with 1 Axes>"
      ]
     },
     "metadata": {
      "needs_background": "light"
     },
     "output_type": "display_data"
    }
   ],
   "source": [
    "plt.figure(figsize = [10,7])\n",
    "plt.title('Valores de magnitudes usando Filtros na luz visível')\n",
    "plt.plot(list(range(50)),G, 'g.-')\n",
    "plt.plot(list(range(50)),V,'k.-')\n",
    "plt.legend(['Filtro G, GAIA','Filtro V, EFEM'])\n",
    "plt.xlabel('Numero de pontos')\n",
    "#plt.xlabel('Tempo em Data Juliana -  a partir de 2000')\n",
    "plt.ylabel('Magnitude')\n",
    "plt.show()"
   ]
  },
  {
   "cell_type": "markdown",
   "metadata": {},
   "source": [
    " - A contagem na luz visivel é bem parecido no gaia e na efeméride. Suas diferenças estão no filtro utilizado, o que nos indica que makemake brilha avermelhado no espectro visivel (as magnitude em G, mais proxima do vermelho, são em média menores)."
   ]
  },
  {
   "cell_type": "code",
   "execution_count": 31,
   "metadata": {},
   "outputs": [
    {
     "data": {
      "image/png": "[encoded data removed]",
      "text/plain": [
       "<Figure size 720x504 with 1 Axes>"
      ]
     },
     "metadata": {
      "needs_background": "light"
     },
     "output_type": "display_data"
    }
   ],
   "source": [
    "plt.figure(figsize = [10,7])\n",
    "plt.title('Valores de magnitudes usando Filtros na luz visivel e proximo ao infravermelho')\n",
    "plt.plot(list(range(50)),G, 'g.-')\n",
    "plt.plot(list(range(50)),H,'r.-')\n",
    "plt.legend(['Filtro G, GAIA','Filtro H, EFEM'])\n",
    "plt.xlabel('Numero de pontos')\n",
    "#plt.xlabel('Tempo em Data Juliana -  a partir de 2000')\n",
    "plt.ylabel('Magnitude')\n",
    "plt.show()"
   ]
  },
  {
   "cell_type": "markdown",
   "metadata": {},
   "source": [
    " - Podemos ver que o brilho de makemake é avermelhado, tendo magnitude inclusive negativa quando utilizamos filtros mais proximos do infravermelho.\n",
    " - Nos indica também uma baixa temperatura."
   ]
  },
  {
   "cell_type": "code",
   "execution_count": 32,
   "metadata": {},
   "outputs": [
    {
     "data": {
      "text/plain": [
       "count    50.000000\n",
       "mean     17.149140\n",
       "std       0.005935\n",
       "min      17.140000\n",
       "25%      17.145000\n",
       "50%      17.148000\n",
       "75%      17.155000\n",
       "max      17.157000\n",
       "Name: V, dtype: float64"
      ]
     },
     "execution_count": 32,
     "metadata": {},
     "output_type": "execute_result"
    }
   ],
   "source": [
    "V.describe() # Medida efeméride"
   ]
  },
  {
   "cell_type": "code",
   "execution_count": 33,
   "metadata": {},
   "outputs": [
    {
     "data": {
      "text/plain": [
       "count    50.000000\n",
       "mean     17.138099\n",
       "std       0.015190\n",
       "min      17.113745\n",
       "25%      17.129744\n",
       "50%      17.141241\n",
       "75%      17.142765\n",
       "max      17.161739\n",
       "Name: Gmag, dtype: float64"
      ]
     },
     "execution_count": 33,
     "metadata": {},
     "output_type": "execute_result"
    }
   ],
   "source": [
    "G.describe() # medida do gaia"
   ]
  },
  {
   "cell_type": "code",
   "execution_count": 34,
   "metadata": {},
   "outputs": [
    {
     "data": {
      "text/plain": [
       "count    5.000000e+01\n",
       "mean    -2.100000e-01\n",
       "std      1.962616e-16\n",
       "min     -2.100000e-01\n",
       "25%     -2.100000e-01\n",
       "50%     -2.100000e-01\n",
       "75%     -2.100000e-01\n",
       "max     -2.100000e-01\n",
       "Name: H, dtype: float64"
      ]
     },
     "execution_count": 34,
     "metadata": {},
     "output_type": "execute_result"
    }
   ],
   "source": [
    "H.describe()"
   ]
  },
  {
   "cell_type": "code",
   "execution_count": null,
   "metadata": {},
   "outputs": [],
   "source": []
  }
 ],
 "metadata": {
  "kernelspec": {
   "display_name": "Python 3",
   "language": "python",
   "name": "python3"
  },
  "language_info": {
   "codemirror_mode": {
    "name": "ipython",
    "version": 3
   },
   "file_extension": ".py",
   "mimetype": "text/x-python",
   "name": "python",
   "nbconvert_exporter": "python",
   "pygments_lexer": "ipython3",
   "version": "3.8.3"
  }
 },
 "nbformat": 4,
 "nbformat_minor": 2
}
